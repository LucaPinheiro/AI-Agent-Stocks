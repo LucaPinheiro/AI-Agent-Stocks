{
 "cells": [
  {
   "cell_type": "markdown",
   "metadata": {},
   "source": [
    "# Instalação\n",
    "#INSTALAÇÃO DAS LIBS\n",
    "- !pip install yfinance==0.2.41\n",
    "- !pip install crewai==0.28.8\n",
    "- !pip install 'crewai[tools]'\n",
    "- !pip install langchain==0.1.20\n",
    "- !pip install langchain-openai==0.1.7\n",
    "- !pip install langchain-community==0.0.38\n",
    "- !pip install duckduckgo-search==5.3.0"
   ]
  },
  {
   "cell_type": "code",
   "execution_count": 17,
   "metadata": {},
   "outputs": [],
   "source": [
    "import json\n",
    "import os\n",
    "\n",
    "from datetime import datetime\n",
    "\n",
    "import yfinance as yf\n",
    "\n",
    "from crewai import Agent, Task\n",
    "\n",
    "from langchain.tools import Tool\n",
    "from langchain_openai import ChatOpenAI\n",
    "from langchain_community.tools import DuckDuckGoSearchResults"
   ]
  },
  {
   "cell_type": "code",
   "execution_count": 11,
   "metadata": {},
   "outputs": [],
   "source": [
    "# Criando yahoo finance tool\n",
    "def fetch_stock_price(ticket):\n",
    "    stock = yf.download(ticket, start=\"2023-08-08\", end=\"2024-08-08\")\n",
    "    return stock\n",
    "\n",
    "\n",
    "yahoo_finance_tool = Tool(\n",
    "    name=\"Yahoo Finance Tool\",\n",
    "    description=\"Fetches stocks prices for {ticket} from the last year about a specific company from Yahoo Finance API\",\n",
    "    func=lambda ticket: fetch_stock_price(ticket)\n",
    ")"
   ]
  },
  {
   "cell_type": "code",
   "execution_count": 12,
   "metadata": {},
   "outputs": [
    {
     "name": "stderr",
     "output_type": "stream",
     "text": [
      "[*********************100%%**********************]  1 of 1 completed"
     ]
    },
    {
     "name": "stdout",
     "output_type": "stream",
     "text": [
      "                  Open        High         Low       Close   Adj Close  \\\n",
      "Date                                                                     \n",
      "2023-08-08  179.690002  180.270004  177.580002  179.800003  178.643402   \n",
      "2023-08-09  180.869995  180.929993  177.009995  178.190002  177.043762   \n",
      "2023-08-10  179.479996  180.750000  177.600006  177.970001  176.825180   \n",
      "2023-08-11  177.320007  178.619995  176.550003  177.789993  176.884857   \n",
      "2023-08-14  177.970001  179.690002  177.309998  179.460007  178.546387   \n",
      "...                ...         ...         ...         ...         ...   \n",
      "2024-08-01  224.369995  224.479996  217.020004  218.360001  218.107544   \n",
      "2024-08-02  219.149994  225.600006  217.710007  219.860001  219.605804   \n",
      "2024-08-05  199.089996  213.500000  196.000000  209.270004  209.028061   \n",
      "2024-08-06  205.300003  209.990005  201.070007  207.229996  206.990402   \n",
      "2024-08-07  206.899994  213.639999  206.389999  209.820007  209.577423   \n",
      "\n",
      "               Volume  \n",
      "Date                   \n",
      "2023-08-08   67823000  \n",
      "2023-08-09   60378500  \n",
      "2023-08-10   54686900  \n",
      "2023-08-11   51988100  \n",
      "2023-08-14   43675600  \n",
      "...               ...  \n",
      "2024-08-01   62501000  \n",
      "2024-08-02  105568600  \n",
      "2024-08-05  119548600  \n",
      "2024-08-06   69660500  \n",
      "2024-08-07   63516400  \n",
      "\n",
      "[252 rows x 6 columns]\n"
     ]
    },
    {
     "name": "stderr",
     "output_type": "stream",
     "text": [
      "\n"
     ]
    }
   ],
   "source": [
    "print(fetch_stock_price('AAPL'))"
   ]
  },
  {
   "cell_type": "code",
   "execution_count": 22,
   "metadata": {},
   "outputs": [],
   "source": [
    "import os\n",
    "\n",
    "# Importando OpenAI LLM - GPT\n",
    "os.environ['OPENAI_API_KEY'] = os.getenv('OPENAI_API_KEY')\n",
    "llm = ChatOpenAI(model=\"gpt-4o\")"
   ]
  },
  {
   "cell_type": "code",
   "execution_count": 14,
   "metadata": {},
   "outputs": [],
   "source": [
    "stockPriceAnalyst = Agent(\n",
    "    role=\"Senior stock price Analyst\",\n",
    "    goal=\"Find the {ticket} stock and analyses treds\",\n",
    "    backstory=\"\"\"You are a highly experienced in analyzing the price of an specif stock\n",
    "    and make predictions about its future price.\"\"\",\n",
    "    verbose=True,\n",
    "    llm=llm,\n",
    "    max_iter=5,\n",
    "    tools=[yahoo_finance_tool]\n",
    "    )"
   ]
  },
  {
   "cell_type": "code",
   "execution_count": 15,
   "metadata": {},
   "outputs": [],
   "source": [
    "getStockPrice = Task(\n",
    "    description=\"Analyze the stock {ticket} price history and create a trend analyses of up, down or sideways\",\n",
    "    expected_output=\"\"\" Specify the current trend stock price -up, down or sideways.\n",
    "    eg. stock 'APPL, price UP'\n",
    "    \"\"\",\n",
    "    agent=stockPriceAnalyst\n",
    ")"
   ]
  },
  {
   "cell_type": "code",
   "execution_count": 18,
   "metadata": {},
   "outputs": [],
   "source": [
    "# Important a tool de search\n",
    "\n",
    "search_tool = DuckDuckGoSearchResults(\n",
    "    backend='news',\n",
    "    num_results=10\n",
    ")"
   ]
  },
  {
   "cell_type": "code",
   "execution_count": 19,
   "metadata": {},
   "outputs": [],
   "source": [
    "newAnalyst = Agent(\n",
    "    role=\"Stock News Analyst\",\n",
    "    goal=\"\"\"Create a short summary of the market news related to the stock {ticket} company. Specify the current trend - up, down or sideways\n",
    "     with the news context. For each request stock asset, specify a number between 0 and 100, where 0 is extreme fear and 100 is extreme greed.\"\"\",\n",
    "    backstory=\"\"\" You are a highly experienced in analyzing the market trends and news and have tracked assets for more then 10 years.\n",
    "    \n",
    "    You are also master level alyts in the tradicional markets and have deep understanding of human psychology.\n",
    "    \n",
    "    YOu understand news, theirs tittles and information, but you look at those with a health dose of skepticise.\n",
    "    You consider also the source of the news articles.\n",
    "    \"\"\",\n",
    "    verbose=True,\n",
    "    llm=llm,\n",
    "    max_iter=10,\n",
    "    tools=[search_tool]\n",
    ")"
   ]
  },
  {
   "cell_type": "code",
   "execution_count": 20,
   "metadata": {},
   "outputs": [],
   "source": [
    "get_news = Task(\n",
    "    description=\"\"\"Take the stock and always include BTC to it (if not request).env\n",
    "    Use the search tool to search each one individually.\n",
    "    \n",
    "    the current date is {datetime.now()}.\n",
    "    \n",
    "    Compose the results into a helpfull report.\"\"\",\n",
    "    expected_output=\"\"\"A summary of the overall market and one sentence summary for each request asset.\n",
    "    Include a fear/greed score for each asset based on the news. Use format:\n",
    "    <STOCK ASSET>\n",
    "    <SUMMARY BASED ON NEWS>\n",
    "    <TREND PREDICTION>\n",
    "    <FEAR/GREED SCORE>\n",
    "    \"\"\",\n",
    "    agent=newAnalyst\n",
    ")"
   ]
  },
  {
   "cell_type": "code",
   "execution_count": 21,
   "metadata": {},
   "outputs": [],
   "source": [
    "stockAnalystWrite = Agent(\n",
    "    role=\"Senior Stock Analyts Writer\",\n",
    "    goal=\"\"\"Analyze the trends price, news and write an insighfull compelling and informative 3 paragraph long newsletter based on the stock report and price trend.\"\"\",\n",
    "    backstory=\"\"\"You are widely accepted as the best stock analyst in the market. You understand complex concepts and create compelling stories\n",
    "    and narratives that resonate with wider audiences.\n",
    "    \n",
    "    You understand macro factors and combine multiple theories - eg. cycle theory and fundamental analyses. you are able to hold multpli opinions when analyzing anything.\n",
    "    \"\"\"\n",
    ")"
   ]
  }
 ],
 "metadata": {
  "kernelspec": {
   "display_name": "venv",
   "language": "python",
   "name": "python3"
  },
  "language_info": {
   "codemirror_mode": {
    "name": "ipython",
    "version": 3
   },
   "file_extension": ".py",
   "mimetype": "text/x-python",
   "name": "python",
   "nbconvert_exporter": "python",
   "pygments_lexer": "ipython3",
   "version": "3.10.12"
  }
 },
 "nbformat": 4,
 "nbformat_minor": 2
}
